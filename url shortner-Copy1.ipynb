{
 "cells": [
  {
   "cell_type": "code",
   "execution_count": 1,
   "id": "b46becfb",
   "metadata": {},
   "outputs": [
    {
     "name": "stdout",
     "output_type": "stream",
     "text": [
      "Collecting pyshorteners\n",
      "  Downloading pyshorteners-1.0.1.tar.gz (10.0 kB)\n",
      "  Preparing metadata (setup.py): started\n",
      "  Preparing metadata (setup.py): finished with status 'done'\n",
      "Requirement already satisfied: requests in c:\\users\\harik\\anaconda3\\lib\\site-packages (from pyshorteners) (2.28.1)\n",
      "Requirement already satisfied: urllib3<1.27,>=1.21.1 in c:\\users\\harik\\anaconda3\\lib\\site-packages (from requests->pyshorteners) (1.26.11)\n",
      "Requirement already satisfied: idna<4,>=2.5 in c:\\users\\harik\\anaconda3\\lib\\site-packages (from requests->pyshorteners) (3.3)\n",
      "Requirement already satisfied: certifi>=2017.4.17 in c:\\users\\harik\\anaconda3\\lib\\site-packages (from requests->pyshorteners) (2022.9.14)\n",
      "Requirement already satisfied: charset-normalizer<3,>=2 in c:\\users\\harik\\anaconda3\\lib\\site-packages (from requests->pyshorteners) (2.0.4)\n",
      "Building wheels for collected packages: pyshorteners\n",
      "  Building wheel for pyshorteners (setup.py): started\n",
      "  Building wheel for pyshorteners (setup.py): finished with status 'done'\n",
      "  Created wheel for pyshorteners: filename=pyshorteners-1.0.1-py3-none-any.whl size=17482 sha256=72a9ea64d40266c06abdcbd30ee910dc0852f68fdec57f585d36573475b62991\n",
      "  Stored in directory: c:\\users\\harik\\appdata\\local\\pip\\cache\\wheels\\51\\56\\d8\\765ad4c919190fbd24541487735547e6c665c9381d4d689ae8\n",
      "Successfully built pyshorteners\n",
      "Installing collected packages: pyshorteners\n",
      "Successfully installed pyshorteners-1.0.1\n"
     ]
    }
   ],
   "source": [
    "!pip install pyshorteners"
   ]
  },
  {
   "cell_type": "code",
   "execution_count": 2,
   "id": "7c5f6ffa",
   "metadata": {},
   "outputs": [],
   "source": [
    "import pyshorteners\n",
    "\n",
    "from tkinter import *\n",
    "#Creating the window\n",
    "wn = Tk()\n",
    "wn.title(\"URL_short\")\n",
    "wn.geometry('500x250')\n",
    "wn.config(bg='darkgray')\n",
    "def url_shortner():\n",
    " long_url = text.get()\n",
    " type_tiny = pyshorteners.Shortener()\n",
    " short_url = type_tiny.tinyurl.short(long_url)\n",
    " correctedText.set(\"The Shortened URL is: \"+ short_url) #Showing the corrected word\n",
    "\n",
    "text=StringVar(wn)\n",
    "correctedText =StringVar(wn)\n",
    "\n",
    "#The main label\n",
    "Label(wn, text='URL_Shortner',bg='darkgray',\n",
    "fg='black', font=('Times', 20,'bold')).place(x=100, y=10)\n",
    "\n",
    "#Getting the input of word from the user\n",
    "Label(wn, text='Enter long url:',bg='darkgray',font=('calibre',13,'normal'), anchor=\"e\", justify=LEFT).place(x=20, y=70)\n",
    "\n",
    "Entry(wn,textvariable=text, width=35,font=('calibre',13,'normal')).place(x=20,y=110)\n",
    "\n",
    "#Label to show the correct word\n",
    "opLabel = Label(wn, textvariable=correctedText, bg='gray',anchor=\"e\",font=('calibre',13,'normal'), justify=LEFT).place(x=20, y=130)\n",
    "\n",
    "#Button to do the spell check\n",
    "Button(wn, text=\"ShortMe\", bg='gray',font=('calibre', 13),\n",
    "command=url_shortner).place(x=230, y=190)\n",
    "\n",
    "#Runs the window till it is closed by the user\n",
    "wn.mainloop()\n",
    "#Function to check the spelling and show the corrected spelling"
   ]
  },
  {
   "cell_type": "code",
   "execution_count": null,
   "id": "4de92970",
   "metadata": {},
   "outputs": [],
   "source": []
  }
 ],
 "metadata": {
  "kernelspec": {
   "display_name": "Python 3 (ipykernel)",
   "language": "python",
   "name": "python3"
  },
  "language_info": {
   "codemirror_mode": {
    "name": "ipython",
    "version": 3
   },
   "file_extension": ".py",
   "mimetype": "text/x-python",
   "name": "python",
   "nbconvert_exporter": "python",
   "pygments_lexer": "ipython3",
   "version": "3.9.13"
  }
 },
 "nbformat": 4,
 "nbformat_minor": 5
}
